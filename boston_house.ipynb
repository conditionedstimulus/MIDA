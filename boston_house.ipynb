{
 "cells": [
  {
   "cell_type": "code",
   "execution_count": 1,
   "id": "bab0b475",
   "metadata": {
    "_cell_guid": "b1076dfc-b9ad-4769-8c92-a6c4dae69d19",
    "_uuid": "8f2839f25d086af736a60e9eeb907d3b93b6e0e5",
    "execution": {
     "iopub.execute_input": "2022-05-19T12:36:54.601637Z",
     "iopub.status.busy": "2022-05-19T12:36:54.601119Z",
     "iopub.status.idle": "2022-05-19T12:36:57.229742Z",
     "shell.execute_reply": "2022-05-19T12:36:57.228869Z"
    },
    "papermill": {
     "duration": 2.669879,
     "end_time": "2022-05-19T12:36:57.232699",
     "exception": false,
     "start_time": "2022-05-19T12:36:54.562820",
     "status": "completed"
    },
    "tags": []
   },
   "outputs": [],
   "source": [
    "import numpy as np \n",
    "import pandas as pd \n",
    "import matplotlib.pyplot as plt\n",
    "\n",
    "from sklearn.model_selection import train_test_split\n",
    "import sklearn.preprocessing as preprocessing\n",
    "import sklearn.metrics as metrics \n",
    "from sklearn.ensemble import RandomForestRegressor\n",
    "from sklearn.experimental import enable_iterative_imputer\n",
    "from sklearn.impute import IterativeImputer\n",
    "\n",
    "import torch as T\n",
    "import torch.nn as nn\n",
    "import torch.nn.functional as F\n",
    "from torch.utils.data import DataLoader, TensorDataset\n",
    "\n",
    "import random\n",
    "\n",
    "pd.set_option('display.max_columns', 50)"
   ]
  },
  {
   "cell_type": "code",
   "execution_count": 2,
   "id": "da4ed4bf",
   "metadata": {
    "execution": {
     "iopub.execute_input": "2022-05-19T12:36:57.278112Z",
     "iopub.status.busy": "2022-05-19T12:36:57.277675Z",
     "iopub.status.idle": "2022-05-19T12:36:57.289095Z",
     "shell.execute_reply": "2022-05-19T12:36:57.288475Z"
    },
    "papermill": {
     "duration": 0.036506,
     "end_time": "2022-05-19T12:36:57.291276",
     "exception": false,
     "start_time": "2022-05-19T12:36:57.254770",
     "status": "completed"
    },
    "tags": []
   },
   "outputs": [],
   "source": [
    "class Encoder(nn.Module):\n",
    "\n",
    "    def __init__(self, n_inputs, thetas):\n",
    "        super(Encoder, self).__init__()\n",
    "        self.encoder = nn.Sequential(\n",
    "            nn.Linear(n_inputs, (n_inputs+thetas[0])),\n",
    "            nn.Tanh(),\n",
    "            nn.Linear((n_inputs+thetas[0]), (n_inputs+thetas[1])),\n",
    "            nn.Tanh(),\n",
    "            nn.Linear((n_inputs+thetas[1]), (n_inputs+thetas[2]))\n",
    "        )\n",
    "        \n",
    "    def forward(self, input_): \n",
    "        x = self.encoder(input_)\n",
    "        \n",
    "        return x\n",
    "    \n",
    "    \n",
    "class Decoder(nn.Module):\n",
    "    def __init__(self, n_inputs, theta):\n",
    "        super(Decoder, self).__init__()\n",
    "        self.decoder = nn.Sequential(\n",
    "            nn.Linear((n_inputs+thetas[2]), (n_inputs+thetas[1])),\n",
    "            nn.Tanh(),\n",
    "            nn.Linear((n_inputs+thetas[1]), (n_inputs+thetas[0])),\n",
    "            nn.Tanh(),\n",
    "            nn.Linear((n_inputs+thetas[0]), n_inputs)\n",
    "            \n",
    "        )\n",
    "        \n",
    "    def forward(self, input_):\n",
    "            x = self.decoder(input_)\n",
    "\n",
    "            return x\n",
    "        \n",
    "              \n",
    "def init_weights(m):\n",
    "    if type(m) == nn.Linear:\n",
    "        nn.init.xavier_uniform_(m.weight) "
   ]
  },
  {
   "cell_type": "code",
   "execution_count": 3,
   "id": "031cde94",
   "metadata": {},
   "outputs": [],
   "source": [
    "def train_epoch(input_):\n",
    "    encoder.train()\n",
    "    decoder.train()\n",
    "    \n",
    "    dropout = nn.Dropout(.5)\n",
    "    input_ = dropout(input_)\n",
    "    \n",
    "    encoded_data = encoder(input_)\n",
    "    decoded_data = decoder(encoded_data)\n",
    "    \n",
    "    loss = loss_fn(decoded_data, input_)\n",
    "    optimizer.zero_grad()\n",
    "    loss.backward()\n",
    "    optimizer.step()\n",
    "    \n",
    "    return loss.item()\n",
    "\n",
    "\n",
    "def predict_DAE(df, missing_dict):\n",
    "    \n",
    "    predicted = list()\n",
    "    for i in range(5):\n",
    "        PATH_E = 'models/enc' + str(i) + '.pth'\n",
    "        PATH_D = 'models/dec' + str(i) + '.pth'\n",
    "        \n",
    "        encoder.load_state_dict(T.load(PATH_E))\n",
    "        decoder.load_state_dict(T.load(PATH_D))\n",
    "        \n",
    "        encoder.eval()\n",
    "        decoder.eval()\n",
    "        \n",
    "        input_ = T.FloatTensor(df.values)\n",
    "        encoded_data = encoder(input_)\n",
    "        decoded_data = decoder(encoded_data) \n",
    "        \n",
    "        predicted.append(decoded_data.detach().numpy())\n",
    "        \n",
    "        \n",
    "    return predicted\n",
    "        \n",
    "\n",
    "def calculate_predicted_means(predicted_data):\n",
    "    \n",
    "    sum_pred = sum(predicted_data)\n",
    "    mean_pred = sum_pred / len(predicted_data)\n",
    "    \n",
    "    return mean_pred"
   ]
  },
  {
   "cell_type": "code",
   "execution_count": 4,
   "id": "06c600c6",
   "metadata": {},
   "outputs": [],
   "source": [
    "def random_attributes(df_):\n",
    "    \n",
    "    n_attributes = df_.shape[1]\n",
    "    n_attributes_samples = int(round(n_attributes / 2, 0))\n",
    "    random_indexes = random.sample(range(n_attributes), n_attributes_samples)\n",
    "    random_indexes.sort()\n",
    "    \n",
    "    return random_indexes\n",
    "\n",
    "\n",
    "def mcar_uniform(v_, df_):\n",
    "    \n",
    "    df2 = df_.mask(v_ <= 0.2, np.nan)\n",
    "    \n",
    "    missing_values = dict()\n",
    "    for column in df2.columns.tolist():\n",
    "        missing_values[column] = df2[df2[column].isnull()].index.tolist()\n",
    "        \n",
    "    df2.fillna(0, inplace=True)\n",
    "    \n",
    "    return df2, missing_values\n",
    "\n",
    "\n",
    "def mcar_random(v_, df_):\n",
    "    \n",
    "    random_indexes = random_attributes(df_)\n",
    "    \n",
    "    selected_cols = np.array(df_.columns.tolist())[random_indexes]\n",
    "    v__ = v_[:, random_indexes]\n",
    "    \n",
    "    df2, missing_values = mcar_uniform(v__, df_[selected_cols].copy())\n",
    "    \n",
    "    for c in selected_cols:\n",
    "        df_[c] = df2[c]\n",
    "    \n",
    "    return df_, missing_values\n",
    "\n",
    "\n",
    "def mnar_random(df_, selected_indexes=None):\n",
    "    \n",
    "    missing_values = dict()\n",
    "    if selected_indexes is None:\n",
    "        selected_indexes = np.random.choice(df_.columns.tolist(), 2)\n",
    "\n",
    "    m1 = np.quantile(df_.loc[:, selected_indexes[0]], .8)\n",
    "    m2 = np.quantile(df_.loc[:, selected_indexes[1]], .2)\n",
    "\n",
    "    m1df = df_[df_.loc[:, selected_indexes[0]] >= m1].copy()\n",
    "    m2df = df_[df_.loc[:, selected_indexes[1]] <= m2].copy()    \n",
    "\n",
    "    m1df.loc[m1df.sample(frac=0.5).index, selected_indexes[0]] = np.nan\n",
    "    m2df.loc[m2df.sample(frac=0.5).index, selected_indexes[1]] = np.nan\n",
    "    \n",
    "    missing_values[selected_indexes[0]] = m1df[m1df[selected_indexes[0]].isnull()].index.tolist()\n",
    "    missing_values[selected_indexes[1]] = m2df[m2df[selected_indexes[1]].isnull()].index.tolist()\n",
    "    \n",
    "    df_.loc[m1df.index,  selected_indexes[0]] = m1df[selected_indexes[0]]\n",
    "    df_.loc[m2df.index,  selected_indexes[1]] = m2df[selected_indexes[1]]\n",
    "    \n",
    "    df_.fillna(0, inplace=True)\n",
    "    \n",
    "    return df_, selected_indexes, missing_values"
   ]
  },
  {
   "cell_type": "code",
   "execution_count": 5,
   "id": "0d1e28f3",
   "metadata": {},
   "outputs": [],
   "source": [
    "def calculate_rmse_sum(test_data, predicted, missing_values):\n",
    "    rmse_sum = 0\n",
    "    for column_name in missing_values.keys():\n",
    "        missing_indexes = missing_values[column_name]\n",
    "        new_col_name = 'miss_' + column_name\n",
    "        test_data[new_col_name] = predicted[:, test_data.columns.tolist().index(column_name)]\n",
    "        root_mse = np.sqrt(metrics.mean_squared_error(\n",
    "            test_data.loc[missing_indexes, column_name],\n",
    "                                            test_data.loc[missing_indexes, new_col_name]))\n",
    "        rmse_sum += root_mse\n",
    "\n",
    "    return rmse_sum"
   ]
  },
  {
   "cell_type": "code",
   "execution_count": 6,
   "id": "1f277ccb",
   "metadata": {},
   "outputs": [],
   "source": [
    "# Loading data"
   ]
  },
  {
   "cell_type": "code",
   "execution_count": 7,
   "id": "95a157cc",
   "metadata": {
    "execution": {
     "iopub.execute_input": "2022-05-19T12:36:57.336884Z",
     "iopub.status.busy": "2022-05-19T12:36:57.336381Z",
     "iopub.status.idle": "2022-05-19T12:36:57.359450Z",
     "shell.execute_reply": "2022-05-19T12:36:57.358784Z"
    },
    "papermill": {
     "duration": 0.047827,
     "end_time": "2022-05-19T12:36:57.361643",
     "exception": false,
     "start_time": "2022-05-19T12:36:57.313816",
     "status": "completed"
    },
    "tags": []
   },
   "outputs": [],
   "source": [
    "df = pd.read_csv('boston.csv')\n",
    "y = df.MEDV\n",
    "droplist = ['MEDV']\n",
    "df.drop(droplist, axis=1,inplace=True)"
   ]
  },
  {
   "cell_type": "code",
   "execution_count": 8,
   "id": "41eba044",
   "metadata": {},
   "outputs": [],
   "source": [
    "# Standardizing the dataset and train-test split"
   ]
  },
  {
   "cell_type": "code",
   "execution_count": 9,
   "id": "ee0bba16",
   "metadata": {
    "execution": {
     "iopub.execute_input": "2022-05-19T12:36:57.406540Z",
     "iopub.status.busy": "2022-05-19T12:36:57.406042Z",
     "iopub.status.idle": "2022-05-19T12:36:57.419110Z",
     "shell.execute_reply": "2022-05-19T12:36:57.418480Z"
    },
    "papermill": {
     "duration": 0.037732,
     "end_time": "2022-05-19T12:36:57.421241",
     "exception": false,
     "start_time": "2022-05-19T12:36:57.383509",
     "status": "completed"
    },
    "tags": []
   },
   "outputs": [],
   "source": [
    "min_max_scaler = preprocessing.MinMaxScaler()\n",
    "df_ = min_max_scaler.fit_transform(df.copy())\n",
    "df_ = pd.DataFrame(df_, columns=df.columns)\n",
    "X_train, X_test, y_train, y_test = train_test_split(df_, y, test_size=0.3, random_state=42)"
   ]
  },
  {
   "cell_type": "code",
   "execution_count": 10,
   "id": "bcef51ef",
   "metadata": {},
   "outputs": [],
   "source": [
    "# Training DAE"
   ]
  },
  {
   "cell_type": "code",
   "execution_count": 11,
   "id": "6a1c0f0f",
   "metadata": {
    "execution": {
     "iopub.execute_input": "2022-05-19T12:36:57.567883Z",
     "iopub.status.busy": "2022-05-19T12:36:57.567262Z",
     "iopub.status.idle": "2022-05-19T12:37:42.903939Z",
     "shell.execute_reply": "2022-05-19T12:37:42.903153Z"
    },
    "papermill": {
     "duration": 45.361622,
     "end_time": "2022-05-19T12:37:42.906163",
     "exception": false,
     "start_time": "2022-05-19T12:36:57.544541",
     "status": "completed"
    },
    "tags": []
   },
   "outputs": [
    {
     "name": "stdout",
     "output_type": "stream",
     "text": [
      "Selected device: cpu\n",
      "Episode: 10 current loss: 0.10750680416822433\n",
      "Episode: 20 current loss: 0.05192990802849332\n",
      "Episode: 30 current loss: 0.026730177458375692\n",
      "Episode: 40 current loss: 0.012732893771802386\n",
      "Episode: 50 current loss: 0.00815764038513104\n",
      "Episode: 60 current loss: 0.006959930139904221\n",
      "Episode: 70 current loss: 0.005086845601908863\n",
      "Episode: 80 current loss: 0.004589003045111895\n",
      "Episode: 90 current loss: 0.0031848545477259904\n",
      "Episode: 100 current loss: 0.0031165723824718348\n",
      "Episode: 110 current loss: 0.0024131254758685827\n",
      "Episode: 120 current loss: 0.0025583030461954572\n",
      "Episode: 130 current loss: 0.002913341003780564\n",
      "Episode: 140 current loss: 0.002784157230053097\n",
      "Episode: 150 current loss: 0.0018241376092191786\n",
      "Episode: 160 current loss: 0.001998240884859115\n",
      "Episode: 170 current loss: 0.0012098079508480926\n",
      "Episode: 180 current loss: 0.0013527839910238981\n",
      "Episode: 190 current loss: 0.0011828722393450637\n",
      "Episode: 200 current loss: 0.0008642548831024518\n",
      "Episode: 210 current loss: 0.0011165002409446363\n",
      "Episode: 220 current loss: 0.00104844286882629\n",
      "Episode: 230 current loss: 0.000893565607839264\n",
      "Episode: 240 current loss: 0.0009430603774186844\n",
      "Episode: 250 current loss: 0.0009446518233744428\n",
      "Episode: 260 current loss: 0.0007802936500714471\n",
      "Episode: 270 current loss: 0.0006593742849266467\n",
      "Episode: 280 current loss: 0.0006496922687801998\n",
      "Episode: 290 current loss: 0.0007504907601590579\n",
      "Episode: 300 current loss: 0.000568321064444414\n",
      "Episode: 310 current loss: 0.0006229144588966543\n",
      "Episode: 320 current loss: 0.0007261900003262175\n",
      "Episode: 330 current loss: 0.000746942966846594\n",
      "Episode: 340 current loss: 0.0005734867178640949\n",
      "Episode: 350 current loss: 0.000563293433515355\n",
      "Episode: 360 current loss: 0.0006450249566114508\n",
      "Episode: 370 current loss: 0.0005545218130767656\n",
      "Episode: 380 current loss: 0.0006653695139296664\n",
      "Episode: 390 current loss: 0.00047256459220079705\n",
      "Episode: 400 current loss: 0.0005807424822705798\n",
      "Episode: 410 current loss: 0.0005247315421001986\n",
      "Episode: 420 current loss: 0.0005259973186184652\n",
      "Episode: 430 current loss: 0.0004466964940850933\n",
      "Episode: 440 current loss: 0.00039171627092097577\n",
      "Episode: 450 current loss: 0.0004362783608182023\n",
      "Episode: 460 current loss: 0.0004221883100399282\n",
      "Episode: 470 current loss: 0.00041028093740654487\n",
      "Episode: 480 current loss: 0.00046934213120645535\n",
      "Episode: 490 current loss: 0.00043044224973224726\n"
     ]
    },
    {
     "data": {
      "image/png": "[encoded data removed]",
      "text/plain": [
       "<Figure size 432x288 with 1 Axes>"
      ]
     },
     "metadata": {
      "needs_background": "light"
     },
     "output_type": "display_data"
    },
    {
     "name": "stdout",
     "output_type": "stream",
     "text": [
      "Episode: 10 current loss: 0.10468780994415283\n",
      "Episode: 20 current loss: 0.04953763789186875\n",
      "Episode: 30 current loss: 0.02642183316250642\n",
      "Episode: 40 current loss: 0.01645902544260025\n",
      "Episode: 50 current loss: 0.012197324773296714\n",
      "Episode: 60 current loss: 0.006453732824108253\n",
      "Episode: 70 current loss: 0.004888566113853206\n",
      "Episode: 80 current loss: 0.004575713304802775\n",
      "Episode: 90 current loss: 0.004001937457360327\n",
      "Episode: 100 current loss: 0.0026427435028987625\n",
      "Episode: 110 current loss: 0.003156806662445888\n",
      "Episode: 120 current loss: 0.0022575084149139\n",
      "Episode: 130 current loss: 0.002103855280438438\n",
      "Episode: 140 current loss: 0.001794773736037314\n",
      "Episode: 150 current loss: 0.0024249733445079378\n",
      "Episode: 160 current loss: 0.0014718900783918798\n",
      "Episode: 170 current loss: 0.0028073644692388675\n",
      "Episode: 180 current loss: 0.0016321996566451464\n",
      "Episode: 190 current loss: 0.0025345358008053154\n",
      "Episode: 200 current loss: 0.001454944863022926\n",
      "Episode: 210 current loss: 0.002579100546427071\n",
      "Episode: 220 current loss: 0.0012440177330669637\n",
      "Episode: 230 current loss: 0.001920868157564352\n",
      "Episode: 240 current loss: 0.0023435308976331726\n",
      "Episode: 250 current loss: 0.0024858201262153066\n",
      "Episode: 260 current loss: 0.0018704840476857498\n",
      "Episode: 270 current loss: 0.0010325422432894509\n",
      "Episode: 280 current loss: 0.0017624067598565791\n",
      "Episode: 290 current loss: 0.0009741456160554662\n",
      "Episode: 300 current loss: 0.0009125830426152485\n",
      "Episode: 310 current loss: 0.0009940790672165651\n",
      "Episode: 320 current loss: 0.0007926826850355914\n",
      "Episode: 330 current loss: 0.0007066756297717802\n",
      "Episode: 340 current loss: 0.000780185335315764\n",
      "Episode: 350 current loss: 0.000618023972492665\n",
      "Episode: 360 current loss: 0.0007121897433535196\n",
      "Episode: 370 current loss: 0.0005231591494521126\n",
      "Episode: 380 current loss: 0.0005904596667581549\n",
      "Episode: 390 current loss: 0.0006546076741263581\n",
      "Episode: 400 current loss: 0.0005625664028533114\n",
      "Episode: 410 current loss: 0.00046357458146909874\n",
      "Episode: 420 current loss: 0.000566862622993843\n",
      "Episode: 430 current loss: 0.00047120337694650516\n",
      "Episode: 440 current loss: 0.0005353438391466625\n",
      "Episode: 450 current loss: 0.0005350535769442407\n",
      "Episode: 460 current loss: 0.000427122167214596\n",
      "Episode: 470 current loss: 0.0005494941797223873\n",
      "Episode: 480 current loss: 0.0003986115358808699\n",
      "Episode: 490 current loss: 0.0004451101679781762\n"
     ]
    },
    {
     "data": {
      "image/png": "[encoded data removed]",
      "text/plain": [
       "<Figure size 432x288 with 1 Axes>"
      ]
     },
     "metadata": {
      "needs_background": "light"
     },
     "output_type": "display_data"
    },
    {
     "name": "stdout",
     "output_type": "stream",
     "text": [
      "Episode: 10 current loss: 0.10904451770087083\n",
      "Episode: 20 current loss: 0.05454825113217036\n",
      "Episode: 30 current loss: 0.03486289487530788\n",
      "Episode: 40 current loss: 0.017285301233641803\n",
      "Episode: 50 current loss: 0.007988618453964591\n",
      "Episode: 60 current loss: 0.006762797905442615\n",
      "Episode: 70 current loss: 0.0042666483398837345\n",
      "Episode: 80 current loss: 0.003286874465023478\n",
      "Episode: 90 current loss: 0.0033832901972346008\n",
      "Episode: 100 current loss: 0.002848489908501506\n",
      "Episode: 110 current loss: 0.0028821989253629\n",
      "Episode: 120 current loss: 0.0019391263097835083\n",
      "Episode: 130 current loss: 0.0019821306535353265\n",
      "Episode: 140 current loss: 0.001893105295797189\n",
      "Episode: 150 current loss: 0.0015398151978539925\n",
      "Episode: 160 current loss: 0.0010729569039540365\n",
      "Episode: 170 current loss: 0.0011229531955905259\n",
      "Episode: 180 current loss: 0.0009148616372840479\n",
      "Episode: 190 current loss: 0.0010096188440608482\n",
      "Episode: 200 current loss: 0.0009256740546940515\n",
      "Episode: 210 current loss: 0.0007513235468650237\n",
      "Episode: 220 current loss: 0.0007890193713440871\n",
      "Episode: 230 current loss: 0.0008385287170919279\n",
      "Episode: 240 current loss: 0.0007773241037890936\n",
      "Episode: 250 current loss: 0.0006939325855152371\n",
      "Episode: 260 current loss: 0.0007397132794721983\n",
      "Episode: 270 current loss: 0.0007292681354253242\n",
      "Episode: 280 current loss: 0.0006731778048560955\n",
      "Episode: 290 current loss: 0.0007007251357814918\n",
      "Episode: 300 current loss: 0.0005722188507206738\n",
      "Episode: 310 current loss: 0.0005597596342947023\n",
      "Episode: 320 current loss: 0.0006027832593341979\n",
      "Episode: 330 current loss: 0.0006084763250934581\n",
      "Episode: 340 current loss: 0.0005814145915792324\n",
      "Episode: 350 current loss: 0.0006034713393698136\n",
      "Episode: 360 current loss: 0.0005290579574648291\n",
      "Episode: 370 current loss: 0.0005634011613437906\n",
      "Episode: 380 current loss: 0.0004730116852442734\n",
      "Episode: 390 current loss: 0.0005435850592524124\n",
      "Episode: 400 current loss: 0.0005690138398980101\n",
      "Episode: 410 current loss: 0.0004992021786165424\n",
      "Episode: 420 current loss: 0.0004570358869386837\n",
      "Episode: 430 current loss: 0.00045467404076286283\n",
      "Episode: 440 current loss: 0.0004619175100136393\n",
      "Episode: 450 current loss: 0.0004242386979361375\n",
      "Episode: 460 current loss: 0.0004393370036268607\n",
      "Episode: 470 current loss: 0.0004442370554897934\n",
      "Episode: 480 current loss: 0.0004234392787717904\n",
      "Episode: 490 current loss: 0.0003997635091460931\n"
     ]
    },
    {
     "data": {
      "image/png": "[encoded data removed]",
      "text/plain": [
       "<Figure size 432x288 with 1 Axes>"
      ]
     },
     "metadata": {
      "needs_background": "light"
     },
     "output_type": "display_data"
    },
    {
     "name": "stdout",
     "output_type": "stream",
     "text": [
      "Episode: 10 current loss: 0.10092732310295105\n",
      "Episode: 20 current loss: 0.05353247777869304\n",
      "Episode: 30 current loss: 0.029691266206403572\n",
      "Episode: 40 current loss: 0.01862678265509506\n",
      "Episode: 50 current loss: 0.011650805982450644\n",
      "Episode: 60 current loss: 0.0085262565407902\n",
      "Episode: 70 current loss: 0.0053009655481825275\n",
      "Episode: 80 current loss: 0.004957438330166042\n",
      "Episode: 90 current loss: 0.0036598796335359416\n",
      "Episode: 100 current loss: 0.002837423603826513\n",
      "Episode: 110 current loss: 0.0025642641509572663\n",
      "Episode: 120 current loss: 0.0024344478636824838\n",
      "Episode: 130 current loss: 0.0017804099479690194\n",
      "Episode: 140 current loss: 0.0016173928743228316\n",
      "Episode: 150 current loss: 0.0012456382634506251\n",
      "Episode: 160 current loss: 0.0011465831727643188\n",
      "Episode: 170 current loss: 0.0010334224740896996\n",
      "Episode: 180 current loss: 0.0009453972549332926\n",
      "Episode: 190 current loss: 0.0011069930672723178\n",
      "Episode: 200 current loss: 0.0008594332854651535\n",
      "Episode: 210 current loss: 0.0008712116784105698\n",
      "Episode: 220 current loss: 0.000994772005166548\n",
      "Episode: 230 current loss: 0.0007466109163942747\n",
      "Episode: 240 current loss: 0.0008437221743709719\n",
      "Episode: 250 current loss: 0.0007809355350521704\n",
      "Episode: 260 current loss: 0.0007384585163284404\n",
      "Episode: 270 current loss: 0.0005983511728118174\n",
      "Episode: 280 current loss: 0.0006587578827748075\n",
      "Episode: 290 current loss: 0.0006706319254590198\n",
      "Episode: 300 current loss: 0.0006230779326870106\n",
      "Episode: 310 current loss: 0.00061598354416977\n",
      "Episode: 320 current loss: 0.0006319703024928458\n",
      "Episode: 330 current loss: 0.000557985573929424\n",
      "Episode: 340 current loss: 0.0006619739118226183\n",
      "Episode: 350 current loss: 0.0004901630212164795\n",
      "Episode: 360 current loss: 0.0005455993523355573\n",
      "Episode: 370 current loss: 0.000580963222697998\n",
      "Episode: 380 current loss: 0.0006232997620827518\n",
      "Episode: 390 current loss: 0.0005865798278440101\n",
      "Episode: 400 current loss: 0.00048997061579333\n",
      "Episode: 410 current loss: 0.0005171248049009591\n",
      "Episode: 420 current loss: 0.0004846207436154752\n",
      "Episode: 430 current loss: 0.0005027665926415162\n",
      "Episode: 440 current loss: 0.0004185428357838343\n",
      "Episode: 450 current loss: 0.0005101630789188979\n",
      "Episode: 460 current loss: 0.0004947455648410445\n",
      "Episode: 470 current loss: 0.0004614774540338355\n",
      "Episode: 480 current loss: 0.0004145291325888441\n",
      "Episode: 490 current loss: 0.00040657847421243787\n"
     ]
    },
    {
     "data": {
      "image/png": "[encoded data removed]",
      "text/plain": [
       "<Figure size 432x288 with 1 Axes>"
      ]
     },
     "metadata": {
      "needs_background": "light"
     },
     "output_type": "display_data"
    },
    {
     "name": "stdout",
     "output_type": "stream",
     "text": [
      "Episode: 10 current loss: 0.1280479940275351\n",
      "Episode: 20 current loss: 0.06667338932553928\n",
      "Episode: 30 current loss: 0.032643691481401525\n",
      "Episode: 40 current loss: 0.020028678933158517\n",
      "Episode: 50 current loss: 0.009097114166555306\n",
      "Episode: 60 current loss: 0.006234649879237016\n",
      "Episode: 70 current loss: 0.005454525526147336\n",
      "Episode: 80 current loss: 0.004746633863154178\n",
      "Episode: 90 current loss: 0.003859583792897562\n",
      "Episode: 100 current loss: 0.00414031066854174\n",
      "Episode: 110 current loss: 0.0032951689208857715\n",
      "Episode: 120 current loss: 0.002235292641368384\n",
      "Episode: 130 current loss: 0.0027266770193818957\n",
      "Episode: 140 current loss: 0.002500142145436257\n",
      "Episode: 150 current loss: 0.001985313841335786\n",
      "Episode: 160 current loss: 0.002048572486576935\n",
      "Episode: 170 current loss: 0.00263596591927732\n",
      "Episode: 180 current loss: 0.002051330632336127\n",
      "Episode: 190 current loss: 0.002228592512741064\n",
      "Episode: 200 current loss: 0.001331077500556906\n",
      "Episode: 210 current loss: 0.0017334970810528223\n",
      "Episode: 220 current loss: 0.0015886383237860475\n",
      "Episode: 230 current loss: 0.0008635274134576321\n",
      "Episode: 240 current loss: 0.0008939513209043071\n",
      "Episode: 250 current loss: 0.0009833545530758177\n",
      "Episode: 260 current loss: 0.0008273381730153536\n",
      "Episode: 270 current loss: 0.000765734102363543\n",
      "Episode: 280 current loss: 0.0009380147627477223\n",
      "Episode: 290 current loss: 0.0007943837554194033\n",
      "Episode: 300 current loss: 0.0007058861034844691\n",
      "Episode: 310 current loss: 0.0006763035635231063\n",
      "Episode: 320 current loss: 0.0007154676034891357\n",
      "Episode: 330 current loss: 0.0007092746260847586\n",
      "Episode: 340 current loss: 0.0006009137650835328\n",
      "Episode: 350 current loss: 0.0006111575930844992\n",
      "Episode: 360 current loss: 0.000643005027086474\n",
      "Episode: 370 current loss: 0.0006415781826945022\n",
      "Episode: 380 current loss: 0.0005285541822862191\n",
      "Episode: 390 current loss: 0.0006053581698021541\n",
      "Episode: 400 current loss: 0.0006816929114089968\n",
      "Episode: 410 current loss: 0.00045620414554529515\n",
      "Episode: 420 current loss: 0.0004978423482195163\n",
      "Episode: 430 current loss: 0.0005797014067259928\n",
      "Episode: 440 current loss: 0.00046405966228727874\n",
      "Episode: 450 current loss: 0.0004991907480871305\n",
      "Episode: 460 current loss: 0.00043068139590711024\n",
      "Episode: 470 current loss: 0.00048002358137940365\n",
      "Episode: 480 current loss: 0.0003878119120296712\n",
      "Episode: 490 current loss: 0.000414537784915107\n"
     ]
    },
    {
     "data": {
      "image/png": "[encoded data removed]",
      "text/plain": [
       "<Figure size 432x288 with 1 Axes>"
      ]
     },
     "metadata": {
      "needs_background": "light"
     },
     "output_type": "display_data"
    }
   ],
   "source": [
    "loss_fn = nn.MSELoss()\n",
    "\n",
    "theta = 7\n",
    "thetas = [theta * x for x in range(1,4)]\n",
    "\n",
    "device = T.device(\"cuda\") if T.cuda.is_available() else T.device(\"cpu\")\n",
    "print(f'Selected device: {device}')\n",
    "\n",
    "tensordata = TensorDataset(T.FloatTensor(X_train.values), T.FloatTensor(y_train.values))\n",
    "loader = DataLoader(tensordata, batch_size=32, pin_memory=True)\n",
    "    \n",
    "for k in range(5):\n",
    "    \n",
    "    PATH_E = 'models/enc' + str(k) + '.pth'\n",
    "    PATH_D = 'models/dec' + str(k) + '.pth'\n",
    "\n",
    "    encoder = Encoder(df.shape[1], thetas)\n",
    "    decoder = Decoder(df.shape[1], thetas)\n",
    "\n",
    "    encoder.apply(init_weights)\n",
    "    decoder.apply(init_weights)\n",
    "\n",
    "    dae_params = [\n",
    "        {'params': encoder.parameters()},\n",
    "        {'params': decoder.parameters()}\n",
    "    ]\n",
    "    \n",
    "    optimizer = T.optim.SGD(dae_params, lr=0.01, momentum=0.99, nesterov=True)\n",
    "\n",
    "    encoder.to(device)\n",
    "    decoder.to(device)  \n",
    "\n",
    "    train_loss = dict()\n",
    "    window_size = 30\n",
    "\n",
    "    for e in range(1, 500):\n",
    "        episode_loss= list()\n",
    "\n",
    "        for batch_ndx, (X, y) in enumerate(loader):\n",
    "            loss = train_epoch(X)\n",
    "            episode_loss.append(loss)\n",
    "\n",
    "        episode_mean = np.mean(episode_loss)\n",
    "        \n",
    "        \n",
    "        SMA = round((sum(list(train_loss.values())[-window_size:]) / window_size), 3)\n",
    "        current_mean_loss = round(episode_mean, 3)\n",
    "        \n",
    "        if episode_mean <= 1e-06: # or SMA < current_mean_loss:\n",
    "                print(episode_mean)\n",
    "                break\n",
    "                   \n",
    "        train_loss[e] = episode_mean   \n",
    "         \n",
    "        if e % 10 == 0:\n",
    "                print(f\"Episode: {e} current loss: {train_loss[e]}\")\n",
    "\n",
    "    T.save(encoder.state_dict(), PATH_E)\n",
    "    T.save(decoder.state_dict(), PATH_D)\n",
    "    plt.plot(train_loss.values())\n",
    "    plt.show()"
   ]
  },
  {
   "cell_type": "code",
   "execution_count": 12,
   "id": "71e8fc19",
   "metadata": {},
   "outputs": [],
   "source": [
    "# DAE prediction"
   ]
  },
  {
   "cell_type": "code",
   "execution_count": 13,
   "id": "e96a4c8e",
   "metadata": {
    "execution": {
     "iopub.execute_input": "2022-05-19T12:37:43.519064Z",
     "iopub.status.busy": "2022-05-19T12:37:43.518566Z",
     "iopub.status.idle": "2022-05-19T12:37:43.616295Z",
     "shell.execute_reply": "2022-05-19T12:37:43.615622Z"
    },
    "papermill": {
     "duration": 0.171868,
     "end_time": "2022-05-19T12:37:43.618668",
     "exception": false,
     "start_time": "2022-05-19T12:37:43.446800",
     "status": "completed"
    },
    "tags": []
   },
   "outputs": [
    {
     "name": "stdout",
     "output_type": "stream",
     "text": [
      "Mnar random test set rmse: 1.0421044094953946\n",
      "Mcar uniform test set rmse: 6.452182980277585\n",
      "Mcar random test set rmse: 3.0607833655299084\n"
     ]
    }
   ],
   "source": [
    "# create an uniform matrix\n",
    "uniform_vector = np.random.uniform(size=X_test.shape)\n",
    "\n",
    "# mnar/mcar\n",
    "mnar_random_df, choosed_column_idx, missing_values_mnar = mnar_random(X_test.copy())\n",
    "mcar_uniform_df, missing_values_mcar_uni = mcar_uniform(uniform_vector, X_test.copy())\n",
    "mcar_random_df, missing_values_mcar_rand = mcar_random(uniform_vector, X_test.copy())\n",
    "\n",
    "predicted_data = predict_DAE(mnar_random_df, missing_values_mnar)  \n",
    "mnar_decoded_data = calculate_predicted_means(predicted_data)\n",
    "mnar_random_rmse_sum = calculate_rmse_sum(X_test.copy(), mnar_decoded_data, \n",
    "                                         missing_values_mnar)\n",
    "print(f\"Mnar random test set rmse: {mnar_random_rmse_sum}\")\n",
    "\n",
    "# mcar uniform\n",
    "predicted_data = predict_DAE(mcar_uniform_df, missing_values_mcar_uni)  \n",
    "mcar_uni_decoded_data = calculate_predicted_means(predicted_data)\n",
    "\n",
    "mcar_uni_rmse_sum = calculate_rmse_sum(X_test.copy(), mcar_uni_decoded_data,\n",
    "                                      missing_values_mcar_uni)\n",
    "print(f\"Mcar uniform test set rmse: {mcar_uni_rmse_sum}\")\n",
    "\n",
    "# mnar random\n",
    "predicted_data = predict_DAE(mcar_random_df, missing_values_mcar_rand)  \n",
    "mcar_rnd_decoded_data = calculate_predicted_means(predicted_data)\n",
    "\n",
    "mcar_random_rmse_sum = calculate_rmse_sum(X_test.copy(), mcar_rnd_decoded_data,\n",
    "                                         missing_values_mcar_rand)\n",
    "print(f\"Mcar random test set rmse: {mcar_random_rmse_sum}\")"
   ]
  },
  {
   "cell_type": "code",
   "execution_count": 14,
   "id": "22f0b7c3",
   "metadata": {},
   "outputs": [],
   "source": [
    "# MICE training"
   ]
  },
  {
   "cell_type": "code",
   "execution_count": 15,
   "id": "65cbd02d",
   "metadata": {
    "execution": {
     "iopub.execute_input": "2022-05-19T12:37:44.155228Z",
     "iopub.status.busy": "2022-05-19T12:37:44.154253Z",
     "iopub.status.idle": "2022-05-19T12:37:44.175122Z",
     "shell.execute_reply": "2022-05-19T12:37:44.174498Z"
    },
    "papermill": {
     "duration": 0.095199,
     "end_time": "2022-05-19T12:37:44.177349",
     "exception": false,
     "start_time": "2022-05-19T12:37:44.082150",
     "status": "completed"
    },
    "tags": []
   },
   "outputs": [],
   "source": [
    "uniform_vector_train = np.random.uniform(size=X_train.shape)\n",
    "mnar_random_train, _,_ = mnar_random(X_train.copy(), choosed_column_idx)\n",
    "mcar_random_train, _ = mcar_random(uniform_vector_train, X_train.copy())\n",
    "mcar_uniform_train, _ = mcar_uniform(uniform_vector_train, X_train.copy())"
   ]
  },
  {
   "cell_type": "code",
   "execution_count": 16,
   "id": "7ff3801e",
   "metadata": {
    "execution": {
     "iopub.execute_input": "2022-05-19T12:37:44.322574Z",
     "iopub.status.busy": "2022-05-19T12:37:44.322267Z",
     "iopub.status.idle": "2022-05-19T12:37:56.140970Z",
     "shell.execute_reply": "2022-05-19T12:37:56.140150Z"
    },
    "papermill": {
     "duration": 11.892904,
     "end_time": "2022-05-19T12:37:56.143043",
     "exception": false,
     "start_time": "2022-05-19T12:37:44.250139",
     "status": "completed"
    },
    "tags": []
   },
   "outputs": [
    {
     "data": {
      "text/plain": [
       "array([[2.64471527e-04, 0.00000000e+00, 6.30498534e-02, ...,\n",
       "        6.48936170e-01, 9.92990065e-01, 9.60264901e-02],\n",
       "       [1.40789220e-03, 0.00000000e+00, 0.00000000e+00, ...,\n",
       "        5.53191489e-01, 9.90922386e-01, 2.84492274e-01],\n",
       "       [0.00000000e+00, 0.00000000e+00, 0.00000000e+00, ...,\n",
       "        5.63829787e-01, 1.00000000e+00, 0.00000000e+00],\n",
       "       ...,\n",
       "       [9.76735048e-05, 8.00000000e-01, 5.68181818e-02, ...,\n",
       "        4.68085106e-01, 9.84971506e-01, 1.17549669e-01],\n",
       "       [0.00000000e+00, 0.00000000e+00, 6.46627566e-01, ...,\n",
       "        8.08510638e-01, 0.00000000e+00, 5.94370861e-01],\n",
       "       [2.50017197e-03, 0.00000000e+00, 2.96920821e-01, ...,\n",
       "        8.82978723e-01, 1.77719502e-01, 2.45584989e-01]])"
      ]
     },
     "execution_count": 16,
     "metadata": {},
     "output_type": "execute_result"
    }
   ],
   "source": [
    "rf = RandomForestRegressor()\n",
    "mice_mnar_random = IterativeImputer(estimator=rf, verbose=0, max_iter=5, tol=1e-06, imputation_order='random', random_state=92)\n",
    "mice_mnar_random.fit_transform(mnar_random_train.copy())\n",
    "\n",
    "rf = RandomForestRegressor()\n",
    "mice_mcar_random = IterativeImputer(estimator=rf, verbose=0, max_iter=5, tol=1e-06, imputation_order='random', random_state=92)\n",
    "mice_mcar_random.fit_transform(mcar_random_train.copy())\n",
    "\n",
    "rf = RandomForestRegressor()\n",
    "mice_mcar_uniform = IterativeImputer(estimator=rf, verbose=0, max_iter=5, tol=1e-06, imputation_order='random', random_state=92)\n",
    "mice_mcar_uniform.fit_transform(mcar_uniform_train.copy())"
   ]
  },
  {
   "cell_type": "code",
   "execution_count": 17,
   "id": "29b53775",
   "metadata": {},
   "outputs": [],
   "source": [
    "# MICE predicting and comparing the results"
   ]
  },
  {
   "cell_type": "code",
   "execution_count": 18,
   "id": "dfa83255",
   "metadata": {
    "execution": {
     "iopub.execute_input": "2022-05-19T12:37:56.286953Z",
     "iopub.status.busy": "2022-05-19T12:37:56.286141Z",
     "iopub.status.idle": "2022-05-19T12:37:56.298689Z",
     "shell.execute_reply": "2022-05-19T12:37:56.297476Z"
    },
    "papermill": {
     "duration": 0.086691,
     "end_time": "2022-05-19T12:37:56.300740",
     "exception": false,
     "start_time": "2022-05-19T12:37:56.214049",
     "status": "completed"
    },
    "tags": []
   },
   "outputs": [
    {
     "name": "stdout",
     "output_type": "stream",
     "text": [
      "MICE Mnar random test set rmse: 0.9688978566395455\n",
      "DAE Mnar random test set rmse: 1.0421044094953946\n"
     ]
    }
   ],
   "source": [
    "mice_mnar_random_test = mice_mnar_random.transform(mnar_random_df.copy())\n",
    "mice_mnar_random_rmse_sum = calculate_rmse_sum(X_test, mice_mnar_random_test, missing_values_mnar)\n",
    "print(f\"MICE Mnar random test set rmse: {mice_mnar_random_rmse_sum}\")\n",
    "print(f\"DAE Mnar random test set rmse: {mnar_random_rmse_sum}\")"
   ]
  },
  {
   "cell_type": "code",
   "execution_count": 19,
   "id": "eba8bade",
   "metadata": {
    "execution": {
     "iopub.execute_input": "2022-05-19T12:37:56.447434Z",
     "iopub.status.busy": "2022-05-19T12:37:56.446600Z",
     "iopub.status.idle": "2022-05-19T12:37:56.464222Z",
     "shell.execute_reply": "2022-05-19T12:37:56.463645Z"
    },
    "papermill": {
     "duration": 0.092411,
     "end_time": "2022-05-19T12:37:56.466105",
     "exception": false,
     "start_time": "2022-05-19T12:37:56.373694",
     "status": "completed"
    },
    "tags": []
   },
   "outputs": [
    {
     "name": "stdout",
     "output_type": "stream",
     "text": [
      "MICE Mcar random test set rmse: 2.886186692762375\n",
      "DAE Mcar random test set rmse: 3.0607833655299084\n"
     ]
    }
   ],
   "source": [
    "mice_mcar_random_test = mice_mcar_random.transform(mcar_random_df.copy())\n",
    "mice_mcar_random_rmse_sum = calculate_rmse_sum(X_test, mice_mcar_random_test, missing_values_mcar_rand)\n",
    "print(f\"MICE Mcar random test set rmse: {mice_mcar_random_rmse_sum}\")\n",
    "print(f\"DAE Mcar random test set rmse: {mcar_random_rmse_sum}\")"
   ]
  },
  {
   "cell_type": "code",
   "execution_count": 20,
   "id": "91475f50",
   "metadata": {
    "execution": {
     "iopub.execute_input": "2022-05-19T12:37:56.615680Z",
     "iopub.status.busy": "2022-05-19T12:37:56.614899Z",
     "iopub.status.idle": "2022-05-19T12:37:56.641283Z",
     "shell.execute_reply": "2022-05-19T12:37:56.640718Z"
    },
    "papermill": {
     "duration": 0.103602,
     "end_time": "2022-05-19T12:37:56.643320",
     "exception": false,
     "start_time": "2022-05-19T12:37:56.539718",
     "status": "completed"
    },
    "tags": []
   },
   "outputs": [
    {
     "name": "stdout",
     "output_type": "stream",
     "text": [
      "MICE Mcar uniform test set rmse: 6.190648597724493\n",
      "DAE Mcar uniform test set rmse: 6.452182980277585\n"
     ]
    }
   ],
   "source": [
    "mice_mcar_uniform_test = mice_mcar_uniform.transform(mcar_uniform_df.copy())\n",
    "mice_mcar_uniform_rmse_sum = calculate_rmse_sum(X_test, mice_mcar_uniform_test, missing_values_mcar_uni)\n",
    "print(f\"MICE Mcar uniform test set rmse: {mice_mcar_uniform_rmse_sum}\")\n",
    "print(f\"DAE Mcar uniform test set rmse: {mcar_uni_rmse_sum}\")"
   ]
  }
 ],
 "metadata": {
  "kernelspec": {
   "display_name": "Python 3 (ipykernel)",
   "language": "python",
   "name": "python3"
  },
  "language_info": {
   "codemirror_mode": {
    "name": "ipython",
    "version": 3
   },
   "file_extension": ".py",
   "mimetype": "text/x-python",
   "name": "python",
   "nbconvert_exporter": "python",
   "pygments_lexer": "ipython3",
   "version": "3.9.7"
  },
  "papermill": {
   "default_parameters": {},
   "duration": 73.352329,
   "end_time": "2022-05-19T12:37:58.074562",
   "environment_variables": {},
   "exception": null,
   "input_path": "__notebook__.ipynb",
   "output_path": "__notebook__.ipynb",
   "parameters": {},
   "start_time": "2022-05-19T12:36:44.722233",
   "version": "2.3.4"
  }
 },
 "nbformat": 4,
 "nbformat_minor": 5
}
